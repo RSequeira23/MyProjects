{
 "cells": [
  {
   "cell_type": "markdown",
   "id": "0f10d90d",
   "metadata": {},
   "source": [
    "# BMI Calculator GYM Edition"
   ]
  },
  {
   "cell_type": "code",
   "execution_count": 1,
   "id": "6ca41ca7",
   "metadata": {},
   "outputs": [
    {
     "name": "stdout",
     "output_type": "stream",
     "text": [
      "Name:Ruben\n",
      "Enter your weight in Kilograms: 72\n",
      "Enter your height in meters: 1.71\n",
      "24.622960911049557\n",
      "Ruben, Looking good!\n"
     ]
    }
   ],
   "source": [
    "name = str(input(\"Name:\"))\n",
    "\n",
    "weight = int(input(\"Enter your weight in Kilograms: \"))\n",
    "\n",
    "height = float(input(\"Enter your height in meters: \"))\n",
    "\n",
    "BMI = weight / (height * height)\n",
    "\n",
    "print(BMI)\n",
    "\n",
    "\n",
    "if BMI>0:\n",
    "    if(BMI<=16):\n",
    "        print(name + \", how are you still alive\")\n",
    "    elif(BMI<= 17):\n",
    "        print(name + \", Are you even eating?\")\n",
    "    elif(BMI<= 18.5):\n",
    "        print(name + \", Start Bulking\")\n",
    "    elif(BMI<= 25):\n",
    "        print(name + \", Looking good!\")\n",
    "    elif(BMI<= 30):\n",
    "        print(name + \", Time to cut\")\n",
    "    elif(BMI<= 35):\n",
    "        print(name + \", Join the gym\")\n",
    "    elif(BMI<= 40):\n",
    "        print(name + \", Seriously it's time to get those gains\")\n",
    "    else:\n",
    "        print(\"You went to far with bulking stop and join the gym!\")\n",
    "else:\n",
    "    print(\"Enter Valid Input\")"
   ]
  },
  {
   "cell_type": "code",
   "execution_count": null,
   "id": "c8d34e14",
   "metadata": {},
   "outputs": [],
   "source": [
    "#Severe Thinness\t< 16\n",
    "#Moderate Thinness\t16 - 17\n",
    "#Mild Thinness\t17 - 18.5\n",
    "#Normal\t18.5 - 25\n",
    "#Overweight\t25 - 30\n",
    "#Obese Class I\t30 - 35\n",
    "#Obese Class II\t35 - 40\n",
    "#Obese Class III\t> 40"
   ]
  },
  {
   "cell_type": "code",
   "execution_count": null,
   "id": "bc49170f",
   "metadata": {},
   "outputs": [],
   "source": []
  }
 ],
 "metadata": {
  "kernelspec": {
   "display_name": "Python 3 (ipykernel)",
   "language": "python",
   "name": "python3"
  },
  "language_info": {
   "codemirror_mode": {
    "name": "ipython",
    "version": 3
   },
   "file_extension": ".py",
   "mimetype": "text/x-python",
   "name": "python",
   "nbconvert_exporter": "python",
   "pygments_lexer": "ipython3",
   "version": "3.10.9"
  }
 },
 "nbformat": 4,
 "nbformat_minor": 5
}

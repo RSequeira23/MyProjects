{
 "cells": [
  {
   "cell_type": "code",
   "execution_count": 1,
   "id": "901b2990",
   "metadata": {},
   "outputs": [],
   "source": [
    "import os, shutil"
   ]
  },
  {
   "cell_type": "code",
   "execution_count": 2,
   "id": "ab7f12f6",
   "metadata": {},
   "outputs": [],
   "source": [
    "path = \"C:/Users/Ruben/Desktop/Projects/\""
   ]
  },
  {
   "cell_type": "code",
   "execution_count": 3,
   "id": "a656252f",
   "metadata": {},
   "outputs": [],
   "source": [
    "if os.path.exists(path):\n",
    "    file_names = os.listdir(path)\n",
    "else:\n",
    "    print(\"Invalid path:\", path)\n",
    "    exit()"
   ]
  },
  {
   "cell_type": "code",
   "execution_count": 4,
   "id": "cbb2eac8",
   "metadata": {},
   "outputs": [],
   "source": [
    "#Create the folders if not existing\n",
    "folder_names = ['Image Files', 'Text Files', 'Excel Files']\n",
    "\n",
    "for folder in folder_names:\n",
    "    folder_path = os.path.join(path, folder)\n",
    "    if not os.path.exists(folder_path):\n",
    "        os.mkdir(folder_path)"
   ]
  },
  {
   "cell_type": "code",
   "execution_count": 5,
   "id": "fcd36ace",
   "metadata": {},
   "outputs": [
    {
     "name": "stdout",
     "output_type": "stream",
     "text": [
      "File not moved: Novo Documento do Microsoft Word.docx\n"
     ]
    }
   ],
   "source": [
    "#set the files on the correct folder and display which ones did not join\n",
    "for file in file_names:\n",
    "    if \".jpeg\" in file:\n",
    "        destination = os.path.join(path, \"Image Files\", file)\n",
    "        if not os.path.exists(destination):\n",
    "            shutil.move(os.path.join(path, file), destination)\n",
    "    elif \".txt\" in file:\n",
    "        destination = os.path.join(path, \"Text Files\", file)\n",
    "        if not os.path.exists(destination):\n",
    "            shutil.move(os.path.join(path, file), destination)\n",
    "    elif \".xlsx\" in file:\n",
    "        destination = os.path.join(path, \"Excel Files\", file)\n",
    "        if not os.path.exists(destination):\n",
    "            shutil.move(os.path.join(path, file), destination)\n",
    "    elif not os.path.isdir(os.path.join(path, file)):\n",
    "        print(\"File not moved:\", file)"
   ]
  },
  {
   "cell_type": "code",
   "execution_count": null,
   "id": "894fe3cf",
   "metadata": {},
   "outputs": [],
   "source": []
  }
 ],
 "metadata": {
  "kernelspec": {
   "display_name": "Python 3 (ipykernel)",
   "language": "python",
   "name": "python3"
  },
  "language_info": {
   "codemirror_mode": {
    "name": "ipython",
    "version": 3
   },
   "file_extension": ".py",
   "mimetype": "text/x-python",
   "name": "python",
   "nbconvert_exporter": "python",
   "pygments_lexer": "ipython3",
   "version": "3.10.9"
  }
 },
 "nbformat": 4,
 "nbformat_minor": 5
}
